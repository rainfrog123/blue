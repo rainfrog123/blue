{
 "cells": [
  {
   "cell_type": "code",
   "execution_count": null,
   "metadata": {},
   "outputs": [],
   "source": [
    "from binance.client import Client"
   ]
  },
  {
   "cell_type": "code",
   "execution_count": 10,
   "metadata": {},
   "outputs": [
    {
     "name": "stdout",
     "output_type": "stream",
     "text": [
      "{\n",
      "    \"asset\": [\n",
      "        {\n",
      "            \"asset\": \"USDT\",\n",
      "            \"available\": \"1.84304924\",\n",
      "            \"equity\": \"1.84304924\",\n",
      "            \"locked\": \"0\",\n",
      "            \"marginBalance\": \"1.84304924\",\n",
      "            \"unrealizedPNL\": \"0\"\n",
      "        }\n",
      "    ],\n",
      "    \"riskLevel\": \"NORMAL\",\n",
      "    \"time\": 1730280692378\n",
      "}\n"
     ]
    }
   ],
   "source": [
    "import requests\n",
    "import time\n",
    "import hmac\n",
    "import hashlib\n",
    "import json\n",
    "# Binance API credentials\n",
    "API_KEY = 'GGaSprAudG6UXjS6U3Mfs7AYQGO6ATMwXLluvNT8jlppmhrh2l3JoukHNuzntiLu'\n",
    "API_SECRET = 'JyF0xyd8X89IquM8ZRsXdProxh1zpmMGaxhrT6FPN4zvtMgIZan8bJBruiJe1rWA'\n",
    "\n",
    "# Base URL for Binance options endpoint\n",
    "BASE_URL = 'https://eapi.binance.com'\n",
    "\n",
    "# Define the endpoint\n",
    "endpoint = '/eapi/v1/account'\n",
    "url = BASE_URL + endpoint\n",
    "\n",
    "# Define the required parameters\n",
    "params = {\n",
    "    'timestamp': int(time.time() * 1000),  # Current timestamp in milliseconds\n",
    "    'recvWindow': 5000                     # Optional: Request validity time in ms\n",
    "}\n",
    "\n",
    "# Create the query string from parameters\n",
    "query_string = '&'.join([f\"{key}={value}\" for key, value in params.items()])\n",
    "\n",
    "# Generate the HMAC SHA256 signature\n",
    "signature = hmac.new(\n",
    "    API_SECRET.encode('utf-8'),\n",
    "    query_string.encode('utf-8'),\n",
    "    hashlib.sha256\n",
    ").hexdigest()\n",
    "\n",
    "# Add the signature to the parameters\n",
    "params['signature'] = signature\n",
    "\n",
    "# Headers including the API Key\n",
    "headers = {\n",
    "    'X-MBX-APIKEY': API_KEY\n",
    "}\n",
    "\n",
    "# Send the GET request\n",
    "response = requests.get(url, headers=headers, params=params)\n",
    "\n",
    "# Print the response\n",
    "# print(response.json())\n",
    "# beautiful print\n",
    "print(json.dumps(response.json(), indent=4, sort_keys=True))\n"
   ]
  }
 ],
 "metadata": {
  "kernelspec": {
   "display_name": ".venv",
   "language": "python",
   "name": "python3"
  },
  "language_info": {
   "codemirror_mode": {
    "name": "ipython",
    "version": 3
   },
   "file_extension": ".py",
   "mimetype": "text/x-python",
   "name": "python",
   "nbconvert_exporter": "python",
   "pygments_lexer": "ipython3",
   "version": "3.11.2"
  }
 },
 "nbformat": 4,
 "nbformat_minor": 2
}
