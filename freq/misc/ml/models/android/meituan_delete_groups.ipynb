{
 "cells": [
  {
   "cell_type": "code",
   "execution_count": 1,
   "metadata": {},
   "outputs": [
    {
     "name": "stdout",
     "output_type": "stream",
     "text": [
      "Error: /bin/sh: 1: adb: not found\n",
      "\n",
      "Error: /bin/sh: 1: adb: not found\n",
      "\n",
      "Error: /bin/sh: 1: adb: not found\n",
      "\n"
     ]
    }
   ],
   "source": [
    "import subprocess\n",
    "import time\n",
    "\n",
    "def adb_command(command):\n",
    "    \"\"\"Execute an ADB command.\"\"\"\n",
    "    result = subprocess.run(f\"adb {command}\", shell=True, capture_output=True, text=True)\n",
    "    if result.returncode != 0:\n",
    "        print(f\"Error: {result.stderr}\")\n",
    "    else:\n",
    "        print(result.stdout)\n",
    "\n",
    "def click(x, y):\n",
    "    \"\"\"Perform a click at the specified (x, y) coordinates.\"\"\"\n",
    "    adb_command(f\"shell input tap {x} {y}\")\n",
    "\n",
    "def main():\n",
    "    # Example usage: clicking on (500, 1000) coordinates\n",
    "    coordinates = [(500, 1000), (600, 1100), (700, 1200)]  # Add your coordinates here\n",
    "\n",
    "    for x, y in coordinates:\n",
    "        click(x, y)\n",
    "        time.sleep(1)  # Wait for 1 second before the next click (adjust as needed)\n",
    "\n",
    "if __name__ == \"__main__\":\n",
    "    main()\n",
    "\n",
    "\n",
    "# adb_command(\"shell input tap 500 1000\")\n",
    "\n",
    "\n"
   ]
  }
 ],
 "metadata": {
  "kernelspec": {
   "display_name": ".venv",
   "language": "python",
   "name": "python3"
  },
  "language_info": {
   "codemirror_mode": {
    "name": "ipython",
    "version": 3
   },
   "file_extension": ".py",
   "mimetype": "text/x-python",
   "name": "python",
   "nbconvert_exporter": "python",
   "pygments_lexer": "ipython3",
   "version": "3.11.2"
  }
 },
 "nbformat": 4,
 "nbformat_minor": 2
}
