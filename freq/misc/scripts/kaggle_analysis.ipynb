{
 "cells": [
  {
   "cell_type": "code",
   "execution_count": 15,
   "metadata": {},
   "outputs": [
    {
     "name": "stdout",
     "output_type": "stream",
     "text": [
      "Warning: Your Kaggle API key is readable by other users on this system! To fix this, you can run 'chmod 600 /root/.config/kaggle/kaggle.json'\n",
      "Dataset URL: https://www.kaggle.com/datasets/jacksoncrow/stock-market-dataset\n",
      "CSV file not found in /allah/data/kaggle_data/jacksoncrow/stock-market-dataset\n"
     ]
    }
   ],
   "source": [
    "import kaggle\n",
    "import os\n",
    "import zipfile\n",
    "\n",
    "# Authenticate with Kaggle API\n",
    "kaggle.api.authenticate()\n",
    "\n",
    "# Define the target directory\n",
    "target_directory = \"/allah/data/kaggle_data\"  # Specify your custom directory here\n",
    "\n",
    "# Create the directory if it doesn't exist\n",
    "if not os.path.exists(target_directory):\n",
    "    os.makedirs(target_directory)\n",
    "\n",
    "# Dataset identifier for the weather dataset\n",
    "data_name = 'jacksoncrow/stock-market-dataset'  # Name of the dataset to download\n",
    "target_directory = f'/allah/data/kaggle_data/{data_name}'  # Specify the custom directory for this dataset\n",
    "\n",
    "# Download and unzip the dataset\n",
    "kaggle.api.dataset_download_files(\n",
    "    data_name,  # The dataset identifier\n",
    "    path=target_directory,  # Directory to download to\n",
    "    unzip=True  # Unzips automatically after downloading\n",
    ")\n",
    "\n",
    "# (Optional) Load and check a sample of the data\n",
    "import pandas as pd\n",
    "# Assuming the main file is 'weatherHistory.csv'\n",
    "weather_data_path = os.path.join(target_directory, 'weatherHistory.csv')\n",
    "if os.path.exists(weather_data_path):\n",
    "    weather_data = pd.read_csv(weather_data_path)\n",
    "    print(weather_data.head())\n",
    "else:\n",
    "    print(f\"CSV file not found in {target_directory}\")\n"
   ]
  }
 ],
 "metadata": {
  "kernelspec": {
   "display_name": ".venv",
   "language": "python",
   "name": "python3"
  },
  "language_info": {
   "codemirror_mode": {
    "name": "ipython",
    "version": 3
   },
   "file_extension": ".py",
   "mimetype": "text/x-python",
   "name": "python",
   "nbconvert_exporter": "python",
   "pygments_lexer": "ipython3",
   "version": "3.11.2"
  }
 },
 "nbformat": 4,
 "nbformat_minor": 2
}
