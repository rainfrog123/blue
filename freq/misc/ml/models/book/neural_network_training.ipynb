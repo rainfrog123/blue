{
 "cells": [
  {
   "cell_type": "code",
   "execution_count": 1,
   "metadata": {},
   "outputs": [
    {
     "name": "stderr",
     "output_type": "stream",
     "text": [
      "2024-02-07 11:13:01.712629: E external/local_xla/xla/stream_executor/cuda/cuda_dnn.cc:9261] Unable to register cuDNN factory: Attempting to register factory for plugin cuDNN when one has already been registered\n",
      "2024-02-07 11:13:01.712678: E external/local_xla/xla/stream_executor/cuda/cuda_fft.cc:607] Unable to register cuFFT factory: Attempting to register factory for plugin cuFFT when one has already been registered\n",
      "2024-02-07 11:13:01.713685: E external/local_xla/xla/stream_executor/cuda/cuda_blas.cc:1515] Unable to register cuBLAS factory: Attempting to register factory for plugin cuBLAS when one has already been registered\n",
      "2024-02-07 11:13:01.721263: I tensorflow/core/platform/cpu_feature_guard.cc:182] This TensorFlow binary is optimized to use available CPU instructions in performance-critical operations.\n",
      "To enable the following instructions: AVX2 FMA, in other operations, rebuild TensorFlow with the appropriate compiler flags.\n",
      "2024-02-07 11:13:02.414943: W tensorflow/compiler/tf2tensorrt/utils/py_utils.cc:38] TF-TRT Warning: Could not find TensorRT\n"
     ]
    },
    {
     "name": "stdout",
     "output_type": "stream",
     "text": [
      "Epoch 1/20\n",
      "469/469 [==============================] - 1s 837us/step - loss: 1.2866 - accuracy: 0.6908\n",
      "Epoch 2/20\n",
      "469/469 [==============================] - 0s 793us/step - loss: 0.7171 - accuracy: 0.8386\n",
      "Epoch 3/20\n",
      "469/469 [==============================] - 0s 790us/step - loss: 0.5871 - accuracy: 0.8594\n",
      "Epoch 4/20\n",
      "469/469 [==============================] - 0s 795us/step - loss: 0.5249 - accuracy: 0.8685\n",
      "Epoch 5/20\n",
      "469/469 [==============================] - 0s 813us/step - loss: 0.4871 - accuracy: 0.8743\n",
      "Epoch 6/20\n",
      "469/469 [==============================] - 0s 797us/step - loss: 0.4610 - accuracy: 0.8798\n",
      "Epoch 7/20\n",
      "469/469 [==============================] - 0s 807us/step - loss: 0.4419 - accuracy: 0.8837\n",
      "Epoch 8/20\n",
      "469/469 [==============================] - 0s 799us/step - loss: 0.4270 - accuracy: 0.8866\n",
      "Epoch 9/20\n",
      "469/469 [==============================] - 0s 811us/step - loss: 0.4150 - accuracy: 0.8885\n",
      "Epoch 10/20\n",
      "469/469 [==============================] - 0s 797us/step - loss: 0.4050 - accuracy: 0.8906\n",
      "Epoch 11/20\n",
      "469/469 [==============================] - 0s 801us/step - loss: 0.3965 - accuracy: 0.8925\n",
      "Epoch 12/20\n",
      "469/469 [==============================] - 0s 791us/step - loss: 0.3893 - accuracy: 0.8941\n",
      "Epoch 13/20\n",
      "469/469 [==============================] - 0s 840us/step - loss: 0.3829 - accuracy: 0.8956\n",
      "Epoch 14/20\n",
      "469/469 [==============================] - 0s 809us/step - loss: 0.3773 - accuracy: 0.8972\n",
      "Epoch 15/20\n",
      "469/469 [==============================] - 0s 805us/step - loss: 0.3722 - accuracy: 0.8982\n",
      "Epoch 16/20\n",
      "469/469 [==============================] - 0s 801us/step - loss: 0.3677 - accuracy: 0.8992\n",
      "Epoch 17/20\n",
      "469/469 [==============================] - 0s 798us/step - loss: 0.3637 - accuracy: 0.9000\n",
      "Epoch 18/20\n",
      "469/469 [==============================] - 0s 809us/step - loss: 0.3599 - accuracy: 0.9011\n",
      "Epoch 19/20\n",
      "469/469 [==============================] - 0s 811us/step - loss: 0.3566 - accuracy: 0.9015\n",
      "Epoch 20/20\n",
      "469/469 [==============================] - 0s 827us/step - loss: 0.3534 - accuracy: 0.9024\n",
      "313/313 [==============================] - 0s 611us/step - loss: 0.3355 - accuracy: 0.9094\n",
      "Test accuracy: 0.9093999862670898\n"
     ]
    }
   ],
   "source": [
    "import keras\n",
    "from keras.datasets import mnist\n",
    "from keras.models import Sequential\n",
    "from keras.layers import Dense\n",
    "from keras.optimizers import SGD\n",
    "from keras.utils import to_categorical\n",
    "\n",
    "# Load MNIST dataset\n",
    "(train_images, train_labels), (test_images, test_labels) = mnist.load_data()\n",
    "\n",
    "# Preprocess the data: Flatten and normalize\n",
    "train_images = train_images.reshape((60000, 28 * 28)).astype('float32') / 255\n",
    "test_images = test_images.reshape((10000, 28 * 28)).astype('float32') / 255\n",
    "\n",
    "# Convert labels to one-hot encoding\n",
    "train_labels = to_categorical(train_labels)\n",
    "test_labels = to_categorical(test_labels)\n",
    "\n",
    "# Build the neural network model\n",
    "model = Sequential()\n",
    "model.add(Dense(10, activation='softmax', input_shape=(28*28,)))\n",
    "\n",
    "# Compile the model\n",
    "model.compile(optimizer=SGD(), \n",
    "              loss\n",
    "              ='categorical_crossentropy',\n",
    "              metrics=['accuracy'])\n",
    "\n",
    "# Train the model\n",
    "model.fit(train_images, train_labels, epochs=20, batch_size=128)\n",
    "\n",
    "# Evaluate the model's performance on the test set\n",
    "test_loss, test_acc = model.evaluate(test_images, test_labels)\n",
    "print(f'Test accuracy: {test_acc}')\n"
   ]
  }
 ],
 "metadata": {
  "kernelspec": {
   "display_name": ".venv",
   "language": "python",
   "name": "python3"
  },
  "language_info": {
   "codemirror_mode": {
    "name": "ipython",
    "version": 3
   },
   "file_extension": ".py",
   "mimetype": "text/x-python",
   "name": "python",
   "nbconvert_exporter": "python",
   "pygments_lexer": "ipython3",
   "version": "3.11.2"
  }
 },
 "nbformat": 4,
 "nbformat_minor": 2
}
