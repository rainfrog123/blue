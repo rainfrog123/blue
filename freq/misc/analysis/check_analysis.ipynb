{
 "cells": [
  {
   "cell_type": "code",
   "execution_count": 7,
   "metadata": {},
   "outputs": [],
   "source": [
    "import pandas as pd\n",
    "import numpy as np"
   ]
  },
  {
   "cell_type": "code",
   "execution_count": null,
   "metadata": {},
   "outputs": [],
   "source": [
    "cd /allah/freqtrade/json_dict"
   ]
  },
  {
   "cell_type": "code",
   "execution_count": null,
   "metadata": {},
   "outputs": [],
   "source": [
    "ls"
   ]
  },
  {
   "cell_type": "code",
   "execution_count": 9,
   "metadata": {},
   "outputs": [],
   "source": [
    "df1 = pd.read_json('2022-11-27 10:56:00.142612_macd_long_strategy.json')                  \n",
    "df2 = pd.read_json('2022-11-27 10:30:58.511203_macd_short_strategy.json')                     \n",
    "df1['long_profit'] = (df1['profit_ratio'].multiply(100)).round(2)\n",
    "df1['short_profit'] = (df2['profit_ratio'].multiply(100)).round(2)\n",
    "df = df1\n",
    "df.loc[(df.long_profit > 0) & (df.short_profit < 0), 'label'] = 'long'\n",
    "df.loc[(df.long_profit < 0) & (df.short_profit > 0), 'label'] = 'short'\n",
    "df.loc[(~df['label'].isin(['long', 'short'])) & (df.long_profit.notna()), 'label'] = 'hold'\n",
    "\"\"\" prepare labels \"\"\"\n",
    "df.loc[(df['trade'] == 1)& (df.macd > df.macdsignal), 'position'] = 'crossed_up' \n",
    "df.loc[(df['trade'] == 1)& (df.macd < df.macdsignal), 'position'] = 'crossed_down'"
   ]
  },
  {
   "cell_type": "code",
   "execution_count": null,
   "metadata": {},
   "outputs": [],
   "source": [
    "for i in range(1, 101):\n",
    "    for j in ['open', 'close', 'high', 'low', 'volume']:\n",
    "        df[f'{j}_shift_{i}'] = df[j].shift(i)\n"
   ]
  },
  {
   "cell_type": "code",
   "execution_count": null,
   "metadata": {},
   "outputs": [],
   "source": [
    "# df.columns\n",
    "print(df.columns)"
   ]
  },
  {
   "cell_type": "code",
   "execution_count": null,
   "metadata": {},
   "outputs": [],
   "source": []
  }
 ],
 "metadata": {
  "kernelspec": {
   "display_name": "Python 3.8.10 ('.env': venv)",
   "language": "python",
   "name": "python3"
  },
  "language_info": {
   "codemirror_mode": {
    "name": "ipython",
    "version": 3
   },
   "file_extension": ".py",
   "mimetype": "text/x-python",
   "name": "python",
   "nbconvert_exporter": "python",
   "pygments_lexer": "ipython3",
   "version": "3.8.10"
  },
  "orig_nbformat": 4,
  "vscode": {
   "interpreter": {
    "hash": "172f707599f4be4468237693340ce98b296bfed7722ea61ef6d64b8f86923810"
   }
  }
 },
 "nbformat": 4,
 "nbformat_minor": 2
}
