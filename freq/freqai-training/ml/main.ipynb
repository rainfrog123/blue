{
 "cells": [
  {
   "cell_type": "code",
   "execution_count": 4,
   "metadata": {},
   "outputs": [
    {
     "name": "stderr",
     "output_type": "stream",
     "text": [
      "Seed set to 42\n"
     ]
    },
    {
     "name": "stdout",
     "output_type": "stream",
     "text": [
      "Original features shape: (17721, 1207)\n",
      "Target classes: ['LOSE' 'WIN']\n"
     ]
    },
    {
     "name": "stderr",
     "output_type": "stream",
     "text": [
      "GPU available: False, used: False\n",
      "TPU available: False, using: 0 TPU cores\n",
      "HPU available: False, using: 0 HPUs\n"
     ]
    },
    {
     "name": "stdout",
     "output_type": "stream",
     "text": [
      "\n",
      "Dataset splits:\n",
      "Training set size: 12404\n",
      "Validation set size: 2658\n",
      "Test set size: 2659\n",
      "Input dimensions: 1207\n",
      "Number of classes: 2\n",
      "Original features shape: (17721, 1207)\n",
      "Target classes: ['LOSE' 'WIN']\n"
     ]
    },
    {
     "name": "stderr",
     "output_type": "stream",
     "text": [
      "/allah/freqtrade/.venv/lib/python3.11/site-packages/pytorch_lightning/callbacks/model_checkpoint.py:654: Checkpoint directory /allah/stuff/freq/project_1/ml/checkpoints exists and is not empty.\n",
      "/allah/freqtrade/.venv/lib/python3.11/site-packages/torch/optim/lr_scheduler.py:62: UserWarning: The verbose parameter is deprecated. Please use get_last_lr() to access the learning rate.\n",
      "  warnings.warn(\n",
      "\n",
      "   | Name            | Type            | Params | Mode \n",
      "-------------------------------------------------------------\n",
      "0  | layer1          | Linear          | 154 K  | train\n",
      "1  | layer2          | Linear          | 16.5 K | train\n",
      "2  | layer3          | Linear          | 258    | train\n",
      "3  | dropout         | Dropout         | 0      | train\n",
      "4  | train_precision | BinaryPrecision | 0      | train\n",
      "5  | train_recall    | BinaryRecall    | 0      | train\n",
      "6  | train_f1        | BinaryF1Score   | 0      | train\n",
      "7  | val_precision   | BinaryPrecision | 0      | train\n",
      "8  | val_recall      | BinaryRecall    | 0      | train\n",
      "9  | val_f1          | BinaryF1Score   | 0      | train\n",
      "10 | test_precision  | BinaryPrecision | 0      | train\n",
      "11 | test_recall     | BinaryRecall    | 0      | train\n",
      "12 | test_f1         | BinaryF1Score   | 0      | train\n",
      "-------------------------------------------------------------\n",
      "171 K     Trainable params\n",
      "0         Non-trainable params\n",
      "171 K     Total params\n",
      "0.686     Total estimated model params size (MB)\n",
      "13        Modules in train mode\n",
      "0         Modules in eval mode\n"
     ]
    },
    {
     "name": "stdout",
     "output_type": "stream",
     "text": [
      "\n",
      "Dataset splits:\n",
      "Training set size: 12404\n",
      "Validation set size: 2658\n",
      "Test set size: 2659\n",
      "Input dimensions: 1207\n",
      "Number of classes: 2\n"
     ]
    },
    {
     "data": {
      "application/vnd.jupyter.widget-view+json": {
       "model_id": "340f0229cfef4a58af64e9ebaf1824fb",
       "version_major": 2,
       "version_minor": 0
      },
      "text/plain": [
       "Sanity Checking: |          | 0/? [00:00<?, ?it/s]"
      ]
     },
     "metadata": {},
     "output_type": "display_data"
    },
    {
     "data": {
      "application/vnd.jupyter.widget-view+json": {
       "model_id": "334a7df6b62a4cb3adb417ae8431c9ab",
       "version_major": 2,
       "version_minor": 0
      },
      "text/plain": [
       "Training: |          | 0/? [00:00<?, ?it/s]"
      ]
     },
     "metadata": {},
     "output_type": "display_data"
    },
    {
     "data": {
      "application/vnd.jupyter.widget-view+json": {
       "model_id": "b8e6549ac5f94efea40bb5d6de1256e9",
       "version_major": 2,
       "version_minor": 0
      },
      "text/plain": [
       "Validation: |          | 0/? [00:00<?, ?it/s]"
      ]
     },
     "metadata": {},
     "output_type": "display_data"
    },
    {
     "name": "stderr",
     "output_type": "stream",
     "text": [
      "Metric val_loss improved. New best score: 0.645\n",
      "Epoch 0, global step 194: 'val_loss' reached 0.64533 (best 0.64533), saving model to '/allah/stuff/freq/project_1/ml/checkpoints/model-epoch=00-val_loss=0.645-v2.ckpt' as top 3\n"
     ]
    },
    {
     "data": {
      "application/vnd.jupyter.widget-view+json": {
       "model_id": "5c8e66cff8bc44beb196392f752f7d76",
       "version_major": 2,
       "version_minor": 0
      },
      "text/plain": [
       "Validation: |          | 0/? [00:00<?, ?it/s]"
      ]
     },
     "metadata": {},
     "output_type": "display_data"
    },
    {
     "name": "stderr",
     "output_type": "stream",
     "text": [
      "Epoch 1, global step 388: 'val_loss' reached 0.64958 (best 0.64533), saving model to '/allah/stuff/freq/project_1/ml/checkpoints/model-epoch=01-val_loss=0.650.ckpt' as top 3\n"
     ]
    },
    {
     "data": {
      "application/vnd.jupyter.widget-view+json": {
       "model_id": "5b38202d77c249b18383ed70de5b468b",
       "version_major": 2,
       "version_minor": 0
      },
      "text/plain": [
       "Validation: |          | 0/? [00:00<?, ?it/s]"
      ]
     },
     "metadata": {},
     "output_type": "display_data"
    },
    {
     "name": "stderr",
     "output_type": "stream",
     "text": [
      "Epoch 2, global step 582: 'val_loss' reached 0.64675 (best 0.64533), saving model to '/allah/stuff/freq/project_1/ml/checkpoints/model-epoch=02-val_loss=0.647.ckpt' as top 3\n"
     ]
    },
    {
     "data": {
      "application/vnd.jupyter.widget-view+json": {
       "model_id": "9fbfd012dc194ed2a6a64dd17737714d",
       "version_major": 2,
       "version_minor": 0
      },
      "text/plain": [
       "Validation: |          | 0/? [00:00<?, ?it/s]"
      ]
     },
     "metadata": {},
     "output_type": "display_data"
    },
    {
     "name": "stderr",
     "output_type": "stream",
     "text": [
      "Epoch 3, global step 776: 'val_loss' reached 0.64591 (best 0.64533), saving model to '/allah/stuff/freq/project_1/ml/checkpoints/model-epoch=03-val_loss=0.646-v2.ckpt' as top 3\n"
     ]
    },
    {
     "data": {
      "application/vnd.jupyter.widget-view+json": {
       "model_id": "fa39922f56b4473aa6b1046e3742c9a7",
       "version_major": 2,
       "version_minor": 0
      },
      "text/plain": [
       "Validation: |          | 0/? [00:00<?, ?it/s]"
      ]
     },
     "metadata": {},
     "output_type": "display_data"
    },
    {
     "name": "stderr",
     "output_type": "stream",
     "text": [
      "Epoch 4, global step 970: 'val_loss' was not in top 3\n"
     ]
    },
    {
     "data": {
      "application/vnd.jupyter.widget-view+json": {
       "model_id": "54bf36cba2504cf79350488c3aea7083",
       "version_major": 2,
       "version_minor": 0
      },
      "text/plain": [
       "Validation: |          | 0/? [00:00<?, ?it/s]"
      ]
     },
     "metadata": {},
     "output_type": "display_data"
    },
    {
     "name": "stderr",
     "output_type": "stream",
     "text": [
      "Epoch 5, global step 1164: 'val_loss' was not in top 3\n"
     ]
    },
    {
     "data": {
      "application/vnd.jupyter.widget-view+json": {
       "model_id": "5cd6dc109d504f78ae4e2cb76f8c193c",
       "version_major": 2,
       "version_minor": 0
      },
      "text/plain": [
       "Validation: |          | 0/? [00:00<?, ?it/s]"
      ]
     },
     "metadata": {},
     "output_type": "display_data"
    },
    {
     "name": "stderr",
     "output_type": "stream",
     "text": [
      "Epoch 6, global step 1358: 'val_loss' reached 0.64567 (best 0.64533), saving model to '/allah/stuff/freq/project_1/ml/checkpoints/model-epoch=06-val_loss=0.646-v2.ckpt' as top 3\n"
     ]
    },
    {
     "data": {
      "application/vnd.jupyter.widget-view+json": {
       "model_id": "0631a1daf26244cdac67c5a464f8f4af",
       "version_major": 2,
       "version_minor": 0
      },
      "text/plain": [
       "Validation: |          | 0/? [00:00<?, ?it/s]"
      ]
     },
     "metadata": {},
     "output_type": "display_data"
    },
    {
     "name": "stderr",
     "output_type": "stream",
     "text": [
      "Epoch 7, global step 1552: 'val_loss' was not in top 3\n"
     ]
    },
    {
     "data": {
      "application/vnd.jupyter.widget-view+json": {
       "model_id": "449adaebc6294d09946f15739d3b4106",
       "version_major": 2,
       "version_minor": 0
      },
      "text/plain": [
       "Validation: |          | 0/? [00:00<?, ?it/s]"
      ]
     },
     "metadata": {},
     "output_type": "display_data"
    },
    {
     "name": "stderr",
     "output_type": "stream",
     "text": [
      "Epoch 8, global step 1746: 'val_loss' was not in top 3\n"
     ]
    },
    {
     "data": {
      "application/vnd.jupyter.widget-view+json": {
       "model_id": "560c681588e2475dbd495352c1a14d67",
       "version_major": 2,
       "version_minor": 0
      },
      "text/plain": [
       "Validation: |          | 0/? [00:00<?, ?it/s]"
      ]
     },
     "metadata": {},
     "output_type": "display_data"
    },
    {
     "name": "stderr",
     "output_type": "stream",
     "text": [
      "Epoch 9, global step 1940: 'val_loss' was not in top 3\n"
     ]
    },
    {
     "data": {
      "application/vnd.jupyter.widget-view+json": {
       "model_id": "ec1bad2cedf64aa6a351d01004a46554",
       "version_major": 2,
       "version_minor": 0
      },
      "text/plain": [
       "Validation: |          | 0/? [00:00<?, ?it/s]"
      ]
     },
     "metadata": {},
     "output_type": "display_data"
    },
    {
     "name": "stderr",
     "output_type": "stream",
     "text": [
      "Epoch 10, global step 2134: 'val_loss' was not in top 3\n"
     ]
    },
    {
     "data": {
      "application/vnd.jupyter.widget-view+json": {
       "model_id": "a30ab78402584a7f87824466f40bfd60",
       "version_major": 2,
       "version_minor": 0
      },
      "text/plain": [
       "Validation: |          | 0/? [00:00<?, ?it/s]"
      ]
     },
     "metadata": {},
     "output_type": "display_data"
    },
    {
     "name": "stderr",
     "output_type": "stream",
     "text": [
      "Epoch 11, global step 2328: 'val_loss' was not in top 3\n"
     ]
    },
    {
     "data": {
      "application/vnd.jupyter.widget-view+json": {
       "model_id": "f1c26b7a17bf4fc48c0c0bf8409180a3",
       "version_major": 2,
       "version_minor": 0
      },
      "text/plain": [
       "Validation: |          | 0/? [00:00<?, ?it/s]"
      ]
     },
     "metadata": {},
     "output_type": "display_data"
    },
    {
     "name": "stderr",
     "output_type": "stream",
     "text": [
      "Epoch 12, global step 2522: 'val_loss' was not in top 3\n"
     ]
    },
    {
     "data": {
      "application/vnd.jupyter.widget-view+json": {
       "model_id": "0f2111f7eb0c41d8a91bd0abaafbd9e3",
       "version_major": 2,
       "version_minor": 0
      },
      "text/plain": [
       "Validation: |          | 0/? [00:00<?, ?it/s]"
      ]
     },
     "metadata": {},
     "output_type": "display_data"
    },
    {
     "name": "stderr",
     "output_type": "stream",
     "text": [
      "Epoch 13, global step 2716: 'val_loss' was not in top 3\n"
     ]
    },
    {
     "data": {
      "application/vnd.jupyter.widget-view+json": {
       "model_id": "9c0e6701210b4e3399cd9a06753abc57",
       "version_major": 2,
       "version_minor": 0
      },
      "text/plain": [
       "Validation: |          | 0/? [00:00<?, ?it/s]"
      ]
     },
     "metadata": {},
     "output_type": "display_data"
    },
    {
     "name": "stderr",
     "output_type": "stream",
     "text": [
      "Epoch 14, global step 2910: 'val_loss' was not in top 3\n"
     ]
    },
    {
     "data": {
      "application/vnd.jupyter.widget-view+json": {
       "model_id": "51a45bb1e8894bdab39722a72099a15e",
       "version_major": 2,
       "version_minor": 0
      },
      "text/plain": [
       "Validation: |          | 0/? [00:00<?, ?it/s]"
      ]
     },
     "metadata": {},
     "output_type": "display_data"
    },
    {
     "name": "stderr",
     "output_type": "stream",
     "text": [
      "Monitored metric val_loss did not improve in the last 15 records. Best score: 0.645. Signaling Trainer to stop.\n",
      "Epoch 15, global step 3104: 'val_loss' was not in top 3\n"
     ]
    },
    {
     "name": "stdout",
     "output_type": "stream",
     "text": [
      "Best validation loss: 0.6453\n"
     ]
    }
   ],
   "source": [
    "# Imports\n",
    "from data_module import CryptoDataModule\n",
    "from model import CryptoPricePredictor\n",
    "from trainer_module import setup_directories, get_callbacks, create_trainer, train_model\n",
    "import pytorch_lightning as pl\n",
    "\n",
    "# Main execution\n",
    "pl.seed_everything(42)\n",
    "directory_path, checkpoint_dir = setup_directories()\n",
    "\n",
    "# Initialize and train\n",
    "data_module = CryptoDataModule(directory_path='/allah/data/parquet', batch_size=64, num_workers=4)\n",
    "data_module.setup()\n",
    "model = CryptoPricePredictor(input_dim=data_module.input_dim)\n",
    "trainer = create_trainer(get_callbacks(checkpoint_dir))\n",
    "best_score = train_model(trainer, model, data_module)\n",
    "\n",
    "print(f\"Best validation loss: {best_score:.4f}\")"
   ]
  },
  {
   "cell_type": "code",
   "execution_count": 2,
   "metadata": {},
   "outputs": [
    {
     "name": "stdout",
     "output_type": "stream",
     "text": [
      "<data_module.CryptoDataModule object at 0x7f2ae5982590>\n",
      "Input dimension: 1207\n",
      "Train features shape: (12404, 1207)\n",
      "Train targets shape: (12404, 1)\n",
      "Validation features shape: (2658, 1207)\n",
      "Validation targets shape: (2658, 1)\n",
      "Test features shape: (2659, 1207)\n",
      "Test targets shape: (2659, 1)\n",
      "Batch size: 64\n",
      "Number of workers: 4\n"
     ]
    }
   ],
   "source": [
    "# Basic info about the data_module object\n",
    "print(data_module)\n",
    "\n",
    "# Check input dimension\n",
    "print(f\"Input dimension: {data_module.input_dim}\")\n",
    "\n",
    "# Check data shapes\n",
    "print(f\"Train features shape: {data_module.train_features.shape}\")\n",
    "print(f\"Train targets shape: {data_module.train_targets.shape}\")\n",
    "print(f\"Validation features shape: {data_module.val_features.shape}\")\n",
    "print(f\"Validation targets shape: {data_module.val_targets.shape}\")\n",
    "print(f\"Test features shape: {data_module.test_features.shape}\")\n",
    "print(f\"Test targets shape: {data_module.test_targets.shape}\")\n",
    "\n",
    "# Check batch size and other parameters\n",
    "print(f\"Batch size: {data_module.batch_size}\")\n",
    "print(f\"Number of workers: {data_module.num_workers}\")\n",
    "\n"
   ]
  }
 ],
 "metadata": {
  "kernelspec": {
   "display_name": ".venv",
   "language": "python",
   "name": "python3"
  },
  "language_info": {
   "codemirror_mode": {
    "name": "ipython",
    "version": 3
   },
   "file_extension": ".py",
   "mimetype": "text/x-python",
   "name": "python",
   "nbconvert_exporter": "python",
   "pygments_lexer": "ipython3",
   "version": "3.11.2"
  }
 },
 "nbformat": 4,
 "nbformat_minor": 2
}
