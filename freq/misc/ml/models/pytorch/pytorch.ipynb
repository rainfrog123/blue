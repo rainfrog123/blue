{
 "cells": [
  {
   "cell_type": "code",
   "execution_count": null,
   "metadata": {},
   "outputs": [
    {
     "name": "stdout",
     "output_type": "stream",
     "text": [
      "tensor([[0.2498, 0.4528, 0.4881],\n",
      "        [0.6950, 0.8129, 0.5463],\n",
      "        [0.5714, 0.1702, 0.2605],\n",
      "        [0.3984, 0.9551, 0.5399],\n",
      "        [0.6065, 0.6630, 0.8670]])\n"
     ]
    }
   ],
   "source": [
    "import torch\n",
    "\n",
    "# Create a tensor with random data\n",
    "x = torch.rand(5, 3)  # 5 rows and 3 columns\n",
    "print(x)\n",
    "\n",
    "# Move the tensor to GPU if available\n",
    "if torch.cuda.is_available():\n",
    "    x = x.to('cuda')\n"
   ]
  },
  {
   "cell_type": "code",
   "execution_count": 2,
   "metadata": {},
   "outputs": [
    {
     "name": "stdout",
     "output_type": "stream",
     "text": [
      "Resulting Matrix c:\n",
      "tensor([[19, 22],\n",
      "        [43, 50]])\n",
      "\n",
      "Step-by-step:\n",
      "c[0,0] = (1*5) + (2*7) = 19\n",
      "c[0,1] = (1*6) + (2*8) = 22\n",
      "c[1,0] = (3*5) + (4*7) = 43\n",
      "c[1,1] = (3*6) + (4*8) = 50\n"
     ]
    }
   ],
   "source": [
    "import torch\n",
    "\n",
    "# Matrices\n",
    "a = torch.tensor([[1, 2], [3, 4]])\n",
    "b = torch.tensor([[5, 6], [7, 8]])\n",
    "\n",
    "# Matrix multiplication\n",
    "c = torch.mm(a, b)\n",
    "\n",
    "# Print result\n",
    "print(\"Resulting Matrix c:\")\n",
    "print(c)\n",
    "\n",
    "# Breakdown of each element in c\n",
    "print(\"\\nStep-by-step:\")\n",
    "print(\"c[0,0] = (1*5) + (2*7) =\", 1*5 + 2*7)  # c[0,0] = 19\n",
    "print(\"c[0,1] = (1*6) + (2*8) =\", 1*6 + 2*8)  # c[0,1] = 22\n",
    "print(\"c[1,0] = (3*5) + (4*7) =\", 3*5 + 4*7)  # c[1,0] = 43\n",
    "print(\"c[1,1] = (3*6) + (4*8) =\", 3*6 + 4*8)  # c[1,1] = 50\n"
   ]
  }
 ],
 "metadata": {
  "kernelspec": {
   "display_name": ".venv",
   "language": "python",
   "name": "python3"
  },
  "language_info": {
   "codemirror_mode": {
    "name": "ipython",
    "version": 3
   },
   "file_extension": ".py",
   "mimetype": "text/x-python",
   "name": "python",
   "nbconvert_exporter": "python",
   "pygments_lexer": "ipython3",
   "version": "3.11.2"
  }
 },
 "nbformat": 4,
 "nbformat_minor": 2
}
